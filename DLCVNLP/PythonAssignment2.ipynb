{
 "cells": [
  {
   "cell_type": "markdown",
   "metadata": {},
   "source": [
    "# iNeuron\n",
    "## DLCVNLP (Deep Learning - Computer Vision - Natural Language Processing)\n",
    "## Python Assignment 2"
   ]
  },
  {
   "cell_type": "markdown",
   "metadata": {},
   "source": [
    "### Question 1\n",
    "Create the below pattern using nested for loop in Python."
   ]
  },
  {
   "cell_type": "raw",
   "metadata": {},
   "source": [
    "* \n",
    "** \n",
    "*** \n",
    "****\n",
    "***** \n",
    "**** \n",
    "*** \n",
    "** \n",
    "*"
   ]
  },
  {
   "cell_type": "code",
   "execution_count": 1,
   "metadata": {},
   "outputs": [
    {
     "name": "stdout",
     "output_type": "stream",
     "text": [
      "\n",
      "*\n",
      "**\n",
      "***\n",
      "****\n",
      "*****\n",
      "****\n",
      "***\n",
      "**\n",
      "*\n"
     ]
    }
   ],
   "source": [
    "for j in range(1, 7):\n",
    "    for i in range(1, j):\n",
    "        print('*', end = '')\n",
    "    print()\n",
    "\n",
    "for j in range(5, 1, -1):\n",
    "    for i in range(j, 1, -1):\n",
    "        print('*', end = '')\n",
    "    print()"
   ]
  },
  {
   "cell_type": "markdown",
   "metadata": {},
   "source": [
    "### Question 2\n",
    "Write a Python program to reverse a word after accepting the input from the user.\n",
    "\n",
    "**Sample Output:**\n",
    "\n",
    "Input word: ineuron\n",
    "\n",
    "Output: norueni"
   ]
  },
  {
   "cell_type": "code",
   "execution_count": 2,
   "metadata": {},
   "outputs": [
    {
     "name": "stdout",
     "output_type": "stream",
     "text": [
      "Input word: Istanbul\n",
      "lubnatsI\n"
     ]
    }
   ],
   "source": [
    "def reverse(input_string):\n",
    "    res = []\n",
    "    for i in range(1, len(input_string)+1):\n",
    "        res.append(input_string[0-i])\n",
    "    return ''.join(res);\n",
    "\n",
    "input_str = input('Input word: ')\n",
    "print(reverse(input_str))"
   ]
  }
 ],
 "metadata": {
  "kernelspec": {
   "display_name": "Python 3",
   "language": "python",
   "name": "python3"
  },
  "language_info": {
   "codemirror_mode": {
    "name": "ipython",
    "version": 3
   },
   "file_extension": ".py",
   "mimetype": "text/x-python",
   "name": "python",
   "nbconvert_exporter": "python",
   "pygments_lexer": "ipython3",
   "version": "3.7.4"
  }
 },
 "nbformat": 4,
 "nbformat_minor": 2
}
