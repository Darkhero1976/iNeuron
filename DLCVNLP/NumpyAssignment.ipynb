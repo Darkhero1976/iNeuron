{
 "cells": [
  {
   "cell_type": "markdown",
   "metadata": {},
   "source": [
    "# iNeuron "
   ]
  },
  {
   "cell_type": "markdown",
   "metadata": {},
   "source": [
    "## DLCVNLP (Deep Learning - Computer Vision - Natural Language Processing)\n",
    "## Numpy Assignment\n"
   ]
  },
  {
   "cell_type": "markdown",
   "metadata": {},
   "source": [
    "### Question 1\n",
    "Write a function so that the columns of the output matrix are powers of the input\n",
    "vector.\n",
    "\n",
    "The order of the powers is determined by the increasing boolean argument. Specifically, when\n",
    "increasing is False, the i-th output column is the input vector raised element-wise to the power\n",
    "of N - i - 1.\n",
    "\n",
    "**HINT:** Such a matrix with a geometric progression in each row is named for Alexandre-\n",
    "Theophile Vandermonde."
   ]
  },
  {
   "cell_type": "code",
   "execution_count": 40,
   "metadata": {},
   "outputs": [
    {
     "name": "stdout",
     "output_type": "stream",
     "text": [
      "[[    1     1     1     1     1     1     1]\n",
      " [    1     2     4     8    16    32    64]\n",
      " [    1     3     9    27    81   243   729]\n",
      " [    1     4    16    64   256  1024  4096]\n",
      " [    1     5    25   125   625  3125 15625]\n",
      " [    1     6    36   216  1296  7776 46656]]\n"
     ]
    }
   ],
   "source": [
    "input = [1,2,3,4,5,6]\n",
    "\n",
    "def get_vander_matrix(input, n=3):\n",
    "    length = len(input)\n",
    "    res = np.zeros((length, n)).astype('int')\n",
    "    for i in range(length):\n",
    "        for j in range(n):\n",
    "            res[i][j] = input[i]**j\n",
    "    return res\n",
    "\n",
    "print( get_vander_matrix(input, 7) )"
   ]
  },
  {
   "cell_type": "markdown",
   "metadata": {},
   "source": [
    "### Problem Statement\n",
    "Given a sequence of n values x1, x2, ..., xn and a window size k>0, the k-th moving average of\n",
    "the given sequence is defined as follows:\n",
    "\n",
    "The moving average sequence has n-k+1 elements as shown below.\n",
    "The moving averages with k=4 of a ten-value sequence (n=10) is shown below\n",
    "\n",
    "  i  1  2  3  4  5  6  7  8  9  10\n",
    "\n",
    "===== == == == == == == == == == ==\n",
    "\n",
    "Input 10 20 30 40 50 60 70 80 90 100\n",
    "\n",
    "y1 25 = (10+20+30+40)/4\n",
    "\n",
    "y2 35 = (20+30+40+50)/4\n",
    "\n",
    "y3 45 = (30+40+50+60)/4\n",
    "\n",
    "y4 55 = (40+50+60+70)/4\n",
    "\n",
    "y5 65 = (50+60+70+80)/4\n",
    "\n",
    "y6 75 = (60+70+80+90)/4\n",
    "\n",
    "y7 85 = (70+80+90+100)/4\n",
    "\n",
    "Thus, the moving average sequence has n-k+1=10-4+1=7 values."
   ]
  },
  {
   "cell_type": "markdown",
   "metadata": {},
   "source": [
    "### Question 2\n",
    "Write a function to find moving average in an array over a window:\n",
    "\n",
    "Test it over [3, 5, 7, 2, 8, 10, 11, 65, 72, 81, 99, 100, 150] and window of 3."
   ]
  },
  {
   "cell_type": "code",
   "execution_count": 41,
   "metadata": {},
   "outputs": [
    {
     "name": "stdout",
     "output_type": "stream",
     "text": [
      "[15, 14, 17, 20, 29, 86, 148, 218, 252, 280, 349]\n"
     ]
    }
   ],
   "source": [
    "def get_moving_averages(input, k=3):\n",
    "    n = len(input)\n",
    "    res = []\n",
    "    for i in range(n-k+1):\n",
    "        local_sum = 0\n",
    "        for j in range(k):\n",
    "            local_sum += input[i+j]\n",
    "        res.append(local_sum)\n",
    "    return res\n",
    "\n",
    "print( get_moving_averages([3, 5, 7, 2, 8, 10, 11, 65, 72, 81, 99, 100, 150], 3) )"
   ]
  }
 ],
 "metadata": {
  "kernelspec": {
   "display_name": "Python 3",
   "language": "python",
   "name": "python3"
  },
  "language_info": {
   "codemirror_mode": {
    "name": "ipython",
    "version": 3
   },
   "file_extension": ".py",
   "mimetype": "text/x-python",
   "name": "python",
   "nbconvert_exporter": "python",
   "pygments_lexer": "ipython3",
   "version": "3.7.4"
  }
 },
 "nbformat": 4,
 "nbformat_minor": 2
}
