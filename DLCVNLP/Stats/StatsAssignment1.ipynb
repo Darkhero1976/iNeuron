{
 "cells": [
  {
   "cell_type": "markdown",
   "metadata": {},
   "source": [
    "# iNeuron\n",
    "## DLCVNLP (Deep Learning - Computer Vision - Natural Language Processing)\n",
    "## Stats Assignment 1"
   ]
  },
  {
   "cell_type": "markdown",
   "metadata": {},
   "source": [
    "### Problem Statement 1\n",
    "Calculate the mean, median, mode and standard deviation.\n",
    "The marks awarded for an assignment set for a Year 8 class of 20 students were as\n",
    "follows:\n",
    "\n",
    "6 7 5 7 7 8 7 6 9 7 4 10 6 8 8 9 5 6 4 8"
   ]
  },
  {
   "cell_type": "code",
   "execution_count": 243,
   "metadata": {},
   "outputs": [],
   "source": [
    "import statistics as stats\n",
    "import numpy as np\n",
    "import matplotlib.pyplot as plt"
   ]
  },
  {
   "cell_type": "code",
   "execution_count": 64,
   "metadata": {},
   "outputs": [],
   "source": [
    "def get_std(lst):\n",
    "    return stats.stdev(lst)"
   ]
  },
  {
   "cell_type": "code",
   "execution_count": 36,
   "metadata": {},
   "outputs": [],
   "source": [
    "def get_median(lst):\n",
    "    lng = len(lst)\n",
    "    if lng%2 == 1:\n",
    "        return lst[lng//2]\n",
    "    else:\n",
    "        return (lst[lng//2-1] + lst[lng//2])/2"
   ]
  },
  {
   "cell_type": "code",
   "execution_count": 37,
   "metadata": {},
   "outputs": [],
   "source": [
    "def get_mode(lst):\n",
    "    return max(set(lst), key=lst.count)"
   ]
  },
  {
   "cell_type": "code",
   "execution_count": 38,
   "metadata": {},
   "outputs": [
    {
     "name": "stdout",
     "output_type": "stream",
     "text": [
      "Mean: 6.85  Median: 5.5  Mode: 7  Standard deviation: 1.63\n"
     ]
    }
   ],
   "source": [
    "lst = [6, 7, 5, 7, 7, 8, 7, 6, 9, 7, 4, 10, 6, 8, 8, 9, 5, 6, 4, 8]\n",
    "tot = sum(lst)\n",
    "count = len(lst)\n",
    "mean = tot/count\n",
    "median = get_median(lst)\n",
    "mode = get_mode(lst)\n",
    "std = get_std(lst)\n",
    "print('Mean:', mean, ' Median:', median, ' Mode:', mode, ' Standard deviation:', round(std,2) )"
   ]
  },
  {
   "cell_type": "markdown",
   "metadata": {},
   "source": [
    "### Problem Statement 2\n",
    "Calculate the mean, median, mode and standard deviation.\n",
    "The number of calls from motorists per day for roadside service was recorded for a\n",
    "particular month:\n",
    "\n",
    "28, 122, 217, 130, 120, 86, 80, 90, 140, 120, 70, 40, 145, 113, 90, 68, 174, 194, 170,\n",
    "100, 75, 104, 97, 75,\n",
    "123, 100, 75, 104, 97, 75, 123, 100, 89, 120, 109"
   ]
  },
  {
   "cell_type": "code",
   "execution_count": 40,
   "metadata": {},
   "outputs": [
    {
     "name": "stdout",
     "output_type": "stream",
     "text": [
      "Mean: 107.51  Median: 194  Mode: 75  Standard deviation: 39.34\n"
     ]
    }
   ],
   "source": [
    "lst2 = [28, 122, 217, 130, 120, 86, 80, 90, 140, 120, 70, \n",
    "        40, 145, 113, 90, 68, 174, 194, 170, 100, 75, 104, \n",
    "        97, 75, 123, 100, 75, 104, 97, 75, 123, 100, 89, 120, 109]\n",
    "tot = sum(lst2)\n",
    "count = len(lst2)\n",
    "mean = tot/count\n",
    "median = get_median(lst2)\n",
    "mode = get_mode(lst2)\n",
    "std = get_std(lst2)\n",
    "print('Mean:', round(mean,2), ' Median:', median, ' Mode:', mode, ' Standard deviation:', round(std,2) )"
   ]
  },
  {
   "cell_type": "markdown",
   "metadata": {},
   "source": [
    "### Problem Statement 3\n",
    "The number of times I go to the gym in weekdays, are given below along with its\n",
    "associated probability:\n",
    "\n",
    "x = 0, 1, 2, 3, 4, 5\n",
    "\n",
    "f(x) = 0.09, 0.15, 0.40, 0.25, 0.10, 0.01\n",
    "\n",
    "Calculate the mean no. of workouts in a week. Also evaluate the variance involved in\n",
    "it."
   ]
  },
  {
   "cell_type": "code",
   "execution_count": 61,
   "metadata": {},
   "outputs": [
    {
     "name": "stdout",
     "output_type": "stream",
     "text": [
      "Expected value = E(X) = mean_x:  2.15\n",
      "Var(X):  1.2275\n"
     ]
    }
   ],
   "source": [
    "x = [0, 1, 2, 3, 4, 5]\n",
    "y = [0.09, 0.15, 0.40, 0.25, 0.10, 0.01]\n",
    "\n",
    "zipped = zip(x, y)\n",
    "\n",
    "sum = 0\n",
    "varsum = 0 # Var(X)\n",
    "for elem in zipped:\n",
    "    prod = elem[0] * elem[1]\n",
    "    sum += prod\n",
    "    #print(elem[0], elem[1], prod, ' sum:',round(sum,2))\n",
    "# Expected value = E(X) = mean_x = sum(X*P(X))   # 2.15\n",
    "print('Expected value = E(X) = mean_x: ',sum)\n",
    "\n",
    "zipped = zip(x, y)\n",
    "for elem in zipped:\n",
    "    # Var(X)\n",
    "    varsum += (elem[0]-sum)**2 * elem[1]\n",
    "print('Var(X): ', varsum)"
   ]
  },
  {
   "cell_type": "markdown",
   "metadata": {},
   "source": [
    "### Problem Statement 4\n",
    "Let the continuous random variable D denote the diameter of the hole drilled in an\n",
    "aluminum sheet. The target diameter to be achieved is 12.5mm.\n",
    "\n",
    "Random disturbances in the process often result in inaccuracy.\n",
    "Historical data shows that the distribution of D can be modelled by the PDF\n",
    "\n",
    "(d) = 20e−20(d−12.5), d ≥ 12.5 \n",
    "\n",
    "If a part with diameter > 12.6 mm needs to be scrapped,\n",
    "\n",
    "• What is the proportion of those parts? \n",
    "\n",
    "• What is the CDF when the diameter is of 11 mm? \n",
    "\n",
    "• What is your conclusion regarding the proportion of scraps?"
   ]
  },
  {
   "cell_type": "code",
   "execution_count": null,
   "metadata": {},
   "outputs": [],
   "source": []
  },
  {
   "cell_type": "markdown",
   "metadata": {},
   "source": [
    "### Problem Statement 5\n",
    "\n",
    "A company manufactures LED bulbs with a faulty rate of 30%. If I randomly select 6\n",
    "chosen LEDs, \n",
    "\n",
    "• What is the probability of having 2 faulty LEDs in my sample?\n",
    "\n",
    "Calculate the average value of this process. Also evaluate the standard deviation\n",
    "associated with it."
   ]
  },
  {
   "cell_type": "markdown",
   "metadata": {},
   "source": [
    "This is a binomial distribution because there are only two outcomes; faulty or not.\n",
    "Let X = LED bulb being faulty: 2 faulty bulbs in chosen 6 bulbs\n",
    "Here n=6 and x=2\n",
    "p=0.3  q=0.70\n",
    "P(X) = C(6,2) * 0.30^2 * 0.70^4 = 15 * 0.09 * 0.240 = 0.3239\n",
    "\n",
    "(C(6,2) = 6*5/2! = 6*5/2*1 = 30/2 = 15)"
   ]
  },
  {
   "cell_type": "code",
   "execution_count": 82,
   "metadata": {},
   "outputs": [
    {
     "data": {
      "text/plain": [
       "0.3241349999999999"
      ]
     },
     "execution_count": 82,
     "metadata": {},
     "output_type": "execute_result"
    }
   ],
   "source": [
    "15 * 0.3**2 * 0.7**4"
   ]
  },
  {
   "cell_type": "markdown",
   "metadata": {},
   "source": [
    "Average value for faulty led bulbs in 6 chosen is: 6*0.3 = 1.8\n",
    "\n",
    "Average value for not faulty led bulbs in 6 chosen is: 6*0.7 = 4.2\n",
    "\n",
    "Standard deviation is: 0.4575"
   ]
  },
  {
   "cell_type": "code",
   "execution_count": 100,
   "metadata": {},
   "outputs": [
    {
     "data": {
      "image/png": "[encoded data removed]",
      "text/plain": [
       "<Figure size 432x288 with 1 Axes>"
      ]
     },
     "metadata": {
      "needs_background": "light"
     },
     "output_type": "display_data"
    },
    {
     "name": "stdout",
     "output_type": "stream",
     "text": [
      "std:  0.4577943735823945\n"
     ]
    },
    {
     "data": {
      "text/plain": [
       "(array([42064.,     0.,     0.,     0.,     0.,     0.,     0.,     0.,\n",
       "            0., 17936.]),\n",
       " array([0. , 0.1, 0.2, 0.3, 0.4, 0.5, 0.6, 0.7, 0.8, 0.9, 1. ]),\n",
       " <a list of 10 Patch objects>)"
      ]
     },
     "execution_count": 100,
     "metadata": {},
     "output_type": "execute_result"
    },
    {
     "data": {
      "image/png": "[encoded data removed]",
      "text/plain": [
       "<Figure size 432x288 with 1 Axes>"
      ]
     },
     "metadata": {
      "needs_background": "light"
     },
     "output_type": "display_data"
    }
   ],
   "source": [
    "# https://hadrienj.github.io/posts/Probability-Mass-and-Density-Functions/\n",
    "\n",
    "num_cycles = 10000\n",
    "bulb_fault_arr = ['Faulty', 'Not Faulty']\n",
    "\n",
    "outcomes = []\n",
    "for i in range(num_cycles):\n",
    "    # let's create the distribution \n",
    "    outcome = np.random.choice(bulb_fault_arr, 6, p=[0.3, 0.7])\n",
    "    outcomes.append(outcome)\n",
    "    \n",
    "val, cnt = np.unique(outcomes, return_counts=True)\n",
    "prop = cnt / len(outcomes)\n",
    "\n",
    "# Now that we have created the distribution, let's plot the results\n",
    "plt.bar(val, prop)\n",
    "plt.ylabel(\"Probability\")\n",
    "plt.xlabel(\"Outcome\")\n",
    "plt.show()\n",
    "plt.close()\n",
    "\n",
    "lst = []\n",
    "for oc in outcomes:\n",
    "    for i in range(6):\n",
    "        if oc[i] == 'Faulty':\n",
    "            lst.append(1)\n",
    "        elif oc[i] == 'Not Faulty':\n",
    "            lst.append(0)\n",
    "\n",
    "print('std: ',get_std(lst))\n",
    "plt.title('Avg faulty: 18000,  Avg not faulty: 42000')\n",
    "plt.ylabel(\"Count\")\n",
    "plt.xlabel(\"Outcome\")\n",
    "plt.hist(lst)"
   ]
  },
  {
   "cell_type": "markdown",
   "metadata": {},
   "source": [
    "### Problem Statement 6\n",
    "Gaurav and Barakha are both preparing for entrance exams. Gaurav attempts to\n",
    "solve 8 questions per day with a correction rate of 75%, while Barakha averages\n",
    "around 12 questions per day with a correction rate of 45%. \n",
    "\n",
    "• What is the probability that each of them will solve 5 questions correctly? \n",
    "\n",
    "• What happens in cases of 4 and 6 correct solutions? \n",
    "\n",
    "• What do you infer from it? \n",
    "\n",
    "• What are the two main governing factors affecting their ability to solve questions correctly? \n",
    "\n",
    "Give a pictorial representation of the same to validate your answer."
   ]
  },
  {
   "cell_type": "markdown",
   "metadata": {},
   "source": [
    "### Solution (5 correct):\n",
    "This is a binomial distribution because there are only two outcomes; correct or not.\n",
    "\n",
    "**Gaurav:**\n",
    "Let X = Solution being correct: 5 correct out of 8 solutions\n",
    "\n",
    "Here n=8 and x=5\n",
    "p=0.75  q=0.25\n",
    "\n",
    "P(X) = C(8,5) * 0.75^5 * 0.25^3 = 0.2076\n",
    "\n",
    "(C(8,5) = C(8,3) = 8x7x6/3! = 8x7x6/3x2x1 = 56)\n",
    "\n",
    "\n",
    "**Barakha:**\n",
    "Let X = Solution being correct: 5 correct out of 12 solutions\n",
    "\n",
    "Here n=12 and x=5\n",
    "p=0.45  q=0.55\n",
    "\n",
    "P(X) = C(12,5) * 0.45^5 * 0.55^7 = 0.2225\n",
    "\n",
    "(C(12,5) = 12x11x10x9x8/5! = 12x11x10x9x8/5x4x3x2x1 = 56)"
   ]
  },
  {
   "cell_type": "code",
   "execution_count": 87,
   "metadata": {},
   "outputs": [
    {
     "data": {
      "text/plain": [
       "0.2076416015625"
      ]
     },
     "execution_count": 87,
     "metadata": {},
     "output_type": "execute_result"
    }
   ],
   "source": [
    "# GAURAV 5 correct\n",
    "(8*7*6)/(3*2*1) * 0.75**5 * 0.25**3"
   ]
  },
  {
   "cell_type": "code",
   "execution_count": 85,
   "metadata": {},
   "outputs": [
    {
     "data": {
      "text/plain": [
       "0.22249823843265837"
      ]
     },
     "execution_count": 85,
     "metadata": {},
     "output_type": "execute_result"
    }
   ],
   "source": [
    "# BARAKHA 5 correct\n",
    "(12*11*10*9*8)/(5*4*3*2*1) * 0.45**5 * 0.55**7"
   ]
  },
  {
   "cell_type": "markdown",
   "metadata": {},
   "source": [
    "### 4 Correct:\n",
    "This is a binomial distribution because there are only two outcomes; correct or not.\n",
    "\n",
    "**Gaurav:**\n",
    "Let X = Solution being correct: 4 correct out of 8 solutions\n",
    "\n",
    "Here n=8 and x=4\n",
    "p=0.75  q=0.25\n",
    "\n",
    "P(X) = C(8,4) * 0.75^4 * 0.25^4 = 0.0865\n",
    "\n",
    "(C(8,4) = 8x7x6x5/4! = 8x7x6x5/4x3x2x1 = 84)\n",
    "\n",
    "\n",
    "**Barakha:**\n",
    "Let X = Solution being correct: 4 correct out of 12 solutions\n",
    "\n",
    "Here n=12 and x=4\n",
    "p=0.45  q=0.55\n",
    "\n",
    "P(X) = C(12,4) * 0.45^4 * 0.55^8 = 0.1699\n",
    "\n",
    "(C(12,4) = 12x11x10x9/4! = 12x11x10x9/4x3x2x1 = 495)"
   ]
  },
  {
   "cell_type": "code",
   "execution_count": 94,
   "metadata": {},
   "outputs": [
    {
     "data": {
      "text/plain": [
       "0.086517333984375"
      ]
     },
     "execution_count": 94,
     "metadata": {},
     "output_type": "execute_result"
    }
   ],
   "source": [
    "# GAURAV 4 correct\n",
    "(8*7*6*5)/(4*3*2*1) * 0.75**4 * 0.25**4"
   ]
  },
  {
   "cell_type": "code",
   "execution_count": 95,
   "metadata": {},
   "outputs": [
    {
     "data": {
      "text/plain": [
       "0.16996393213605848"
      ]
     },
     "execution_count": 95,
     "metadata": {},
     "output_type": "execute_result"
    }
   ],
   "source": [
    "# BARAKHA 4 correct\n",
    "(12*11*10*9)/(4*3*2*1) * 0.45**4 * 0.55**8"
   ]
  },
  {
   "cell_type": "markdown",
   "metadata": {},
   "source": [
    "### 6 Correct:\n",
    "This is a binomial distribution because there are only two outcomes; correct or not.\n",
    "\n",
    "**Gaurav:**\n",
    "Let X = Solution being correct: 6 correct out of 8 solutions\n",
    "\n",
    "Here n=8 and x=6\n",
    "p=0.75  q=0.25\n",
    "\n",
    "P(X) = C(8,6) * 0.75^6 * 0.25^2 = 0.3115\n",
    "\n",
    "(C(8,6) = C(8,2) = 8x7/2! = 8x7/2x1 = 28)\n",
    "\n",
    "\n",
    "**Barakha:**\n",
    "Let X = Solution being correct: 6 correct out of 12 solutions\n",
    "\n",
    "Here n=12 and x=6\n",
    "p=0.45  q=0.55\n",
    "\n",
    "P(X) = C(12,6) * 0.45^6 * 0.55^6 = 0.2124\n",
    "\n",
    "(C(12,6) = 12x11x10x9x8x7/6! = 12x11x10x9x8x7/6x5x4x3x2x1 = 924)"
   ]
  },
  {
   "cell_type": "code",
   "execution_count": 96,
   "metadata": {},
   "outputs": [
    {
     "data": {
      "text/plain": [
       "0.31146240234375"
      ]
     },
     "execution_count": 96,
     "metadata": {},
     "output_type": "execute_result"
    }
   ],
   "source": [
    "# GAURAV 6 correct\n",
    "(8*7)/(2*1) * 0.75**6 * 0.25**2"
   ]
  },
  {
   "cell_type": "code",
   "execution_count": 97,
   "metadata": {},
   "outputs": [
    {
     "data": {
      "text/plain": [
       "0.2123846821402648"
      ]
     },
     "execution_count": 97,
     "metadata": {},
     "output_type": "execute_result"
    }
   ],
   "source": [
    "# BARAKHA 6 correct\n",
    "(12*11*10*9*8*7)/(6*5*4*3*2*1) * 0.45**6 * 0.55**6"
   ]
  },
  {
   "cell_type": "markdown",
   "metadata": {},
   "source": [
    "**GAURAV:**\n",
    "\n",
    "Average: 8 * 0.75 = 6 (I think that the highest probability will be around 6 correct)\n",
    "\n",
    "4 correct 4 wrong: 0.0865\n",
    "\n",
    "5 correct 3 wrong: 0.2076\n",
    "\n",
    "6 correct 2 wrong: 0.3115\n",
    "\n",
    "**BARAKHA:**\n",
    "\n",
    "Average: 12 * 0.45 = 5.4 (I think that the highest probability will be around 5.4 correct)\n",
    "\n",
    "4 correct 8 wrong: 0.1699\n",
    "\n",
    "5 correct 7 wrong: 0.2225\n",
    "\n",
    "6 correct 6 wrong: 0.2124\n"
   ]
  },
  {
   "cell_type": "markdown",
   "metadata": {},
   "source": [
    "### Problem Statement 7\n",
    "\n",
    "Customers arrive at a rate of 72 per hour to my shop. What is the probability of k\n",
    "customers arriving in 4 minutes? \n",
    "\n",
    "a) 5 customers, \n",
    "\n",
    "b) not more than 3 customers, \n",
    "\n",
    "c) more than 3 customers. Give a pictorial representation of the same to validate your\n",
    "answer."
   ]
  },
  {
   "cell_type": "markdown",
   "metadata": {},
   "source": [
    "### Solution a:\n",
    "72/60 = 1.2 per minute, 4.8 per 4 minutes; λ = 4.8, k=5\n",
    "\n",
    "Probability of 5 customers in 4 minutes:\n",
    "\n",
    "(4.8^5*e^-4.8)/5!"
   ]
  },
  {
   "cell_type": "code",
   "execution_count": 190,
   "metadata": {},
   "outputs": [],
   "source": [
    "import math\n",
    "def get_result(l, k):\n",
    "    e = 2.718\n",
    "    return (l**k * e**(-l))/math.factorial(k)"
   ]
  },
  {
   "cell_type": "code",
   "execution_count": 191,
   "metadata": {},
   "outputs": [
    {
     "name": "stdout",
     "output_type": "stream",
     "text": [
      "Probability of 5 customers in 4 minutes:  0.1748346745028289\n"
     ]
    }
   ],
   "source": [
    "# lambda=4.8, k=5 customers\n",
    "print('Probability of 5 customers in 4 minutes: ', get_result(4.8, 5))"
   ]
  },
  {
   "cell_type": "markdown",
   "metadata": {},
   "source": [
    "### Solution b:\n",
    "72/60 = 1.2 per minute, 4.8 per 4 minutes; λ = 4.8, k=[0, 1, 2, 3]\n",
    "\n",
    "Probability of 0,1,2,3 customers in 4 minutes:"
   ]
  },
  {
   "cell_type": "code",
   "execution_count": 128,
   "metadata": {},
   "outputs": [
    {
     "name": "stdout",
     "output_type": "stream",
     "text": [
      "(0.008, 0.04, 0.095, 0.152)\n",
      "Not more than 3 customers:  0.295\n"
     ]
    }
   ],
   "source": [
    "a = round(get_result(4.8, 0), 3)\n",
    "b = round(get_result(4.8, 1), 3)\n",
    "c = round(get_result(4.8, 2), 3)\n",
    "d = round(get_result(4.8, 3), 3)\n",
    "result = a + b + c + d\n",
    "print((a, b, c, d))\n",
    "print('Not more than 3 customers: ', round(result, 3))"
   ]
  },
  {
   "cell_type": "markdown",
   "metadata": {},
   "source": [
    "### Solution c:\n",
    "72/60 = 1.2 per minute, 4.8 per 4 minutes; λ = 4.8, k > 3\n",
    "\n",
    "Probability of more than 3 customers in 4 minutes:"
   ]
  },
  {
   "cell_type": "code",
   "execution_count": 132,
   "metadata": {},
   "outputs": [
    {
     "name": "stdout",
     "output_type": "stream",
     "text": [
      "4 customers:  0.182\n",
      "5 customers:  0.175\n",
      "6 customers:  0.14\n",
      "7 customers:  0.096\n",
      "8 customers:  0.058\n",
      "9 customers:  0.031\n",
      "10 customers:  0.015\n",
      "Total (4 to 10 customers inclusive):  0.697\n",
      "More than 3 customers:  0.7050000000000001\n"
     ]
    }
   ],
   "source": [
    "a = round(get_result(4.8, 4), 3)\n",
    "b = round(get_result(4.8, 5), 3)\n",
    "c = round(get_result(4.8, 6), 3)\n",
    "d = round(get_result(4.8, 7), 3)\n",
    "e = round(get_result(4.8, 8), 3)\n",
    "f = round(get_result(4.8, 9), 3)\n",
    "g = round(get_result(4.8, 10), 3)\n",
    "print('4 customers: ', a)\n",
    "print('5 customers: ', b)\n",
    "print('6 customers: ', c)\n",
    "print('7 customers: ', d)\n",
    "print('8 customers: ', e)\n",
    "print('9 customers: ', f)\n",
    "print('10 customers: ', g)\n",
    "print('Total (4 to 10 customers inclusive): ', round(a+b+c+d+e+f+g, 3))\n",
    "print('More than 3 customers: ', 1-0.295)"
   ]
  },
  {
   "cell_type": "code",
   "execution_count": 157,
   "metadata": {},
   "outputs": [
    {
     "data": {
      "text/plain": [
       "Text(0, 0.5, 'Probability')"
      ]
     },
     "execution_count": 157,
     "metadata": {},
     "output_type": "execute_result"
    },
    {
     "data": {
      "image/png": "[encoded data removed]",
      "text/plain": [
       "<Figure size 432x288 with 1 Axes>"
      ]
     },
     "metadata": {
      "needs_background": "light"
     },
     "output_type": "display_data"
    }
   ],
   "source": [
    "x=[0,1,2,3,4,5,6,7,8,9,10]\n",
    "y=[0.008, 0.04, 0.095, 0.152, 0.182, 0.175, 0.14, 0.096, 0.058, 0.031, 0.015]\n",
    "def pdf(x, y, *args, **kwargs):\n",
    "    return plt.plot(x, y, *args, **kwargs)\n",
    "pdf(x,y)\n",
    "plt.title('Probabilities for customers 0 to 10')\n",
    "plt.xlabel('Number of customers')\n",
    "plt.ylabel('Probability')"
   ]
  },
  {
   "cell_type": "code",
   "execution_count": 182,
   "metadata": {},
   "outputs": [],
   "source": [
    "import pandas as pd\n",
    "import numpy as np"
   ]
  },
  {
   "cell_type": "code",
   "execution_count": 237,
   "metadata": {},
   "outputs": [
    {
     "data": {
      "text/plain": [
       "Text(0.5, 1.0, 'Cumulative Histogram')"
      ]
     },
     "execution_count": 237,
     "metadata": {},
     "output_type": "execute_result"
    },
    {
     "data": {
      "image/png": "[encoded data removed]",
      "text/plain": [
       "<Figure size 432x288 with 1 Axes>"
      ]
     },
     "metadata": {
      "needs_background": "light"
     },
     "output_type": "display_data"
    }
   ],
   "source": [
    "y=[0.008, 0.04, 0.095, 0.152, 0.182, 0.175, 0.14, 0.096, 0.058, 0.031, 0.015]\n",
    "plt.hist(y, bins=None, density=True, cumulative=True, alpha=0.55, color='blue')\n",
    "plt.title('Cumulative Histogram')"
   ]
  },
  {
   "cell_type": "markdown",
   "metadata": {},
   "source": [
    "### Problem Statement 8\n",
    "\n",
    "I work as a data analyst in Aeon Learning Pvt. Ltd. After analyzing data, I make\n",
    "reports, where I have the efficiency of entering 77 words per minute with 6 errors per\n",
    "hour. What is the probability that I will commit 2 errors in a 455-word financial report?\n",
    "What happens when the no. of words increases/decreases (in case of 1000 words, 255 words)?\n",
    "\n",
    "• How is the λ affected?\n",
    "\n",
    "• How does it influence the PMF?\n",
    "\n",
    "Give a pictorial representation of the same to validate your answer.\n"
   ]
  },
  {
   "cell_type": "markdown",
   "metadata": {},
   "source": [
    "### Solution 455 words:\n",
    "455/77*6 = 35.45 errors per 455 words; λ = 35.45, k=2\n",
    "\n",
    "Probability of 2 errors in 455 words:\n",
    "\n",
    "(35.45^2*e^-35.45)/2!"
   ]
  },
  {
   "cell_type": "code",
   "execution_count": 195,
   "metadata": {},
   "outputs": [
    {
     "name": "stdout",
     "output_type": "stream",
     "text": [
      "Probability of 2 errors in 455 words:  2.5354753689405775e-13\n"
     ]
    }
   ],
   "source": [
    "print('Probability of 2 errors in 455 words: ', get_result(35.45,2))"
   ]
  },
  {
   "cell_type": "markdown",
   "metadata": {},
   "source": [
    "### Solution 1000 words:\n",
    "1000/77*6 = 857.14 errors per 1000 words; λ = 857.14, k=2\n",
    "\n",
    "Probability of 2 errors in 1000 words:\n",
    "\n",
    "(857.14^2*e^-857.14)/2!"
   ]
  },
  {
   "cell_type": "code",
   "execution_count": 202,
   "metadata": {},
   "outputs": [
    {
     "name": "stdout",
     "output_type": "stream",
     "text": [
      "Probability of 2 errors in 1000 words:  0.0\n"
     ]
    }
   ],
   "source": [
    "print('Probability of 2 errors in 1000 words: ', get_result(857.14,2))"
   ]
  },
  {
   "cell_type": "code",
   "execution_count": 203,
   "metadata": {},
   "outputs": [
    {
     "data": {
      "text/plain": [
       "0.0"
      ]
     },
     "execution_count": 203,
     "metadata": {},
     "output_type": "execute_result"
    }
   ],
   "source": [
    "(857.14**2 * 2.718**(-857.14))/2"
   ]
  },
  {
   "cell_type": "markdown",
   "metadata": {},
   "source": [
    "### Solution 255 words:\n",
    "255/77*6 = 19.87 errors per 255 words; λ = 19.87, k=2\n",
    "\n",
    "Probability of 2 errors in 255 words:\n",
    "\n",
    "(19.87^2*e^-19.87)/2!"
   ]
  },
  {
   "cell_type": "code",
   "execution_count": 204,
   "metadata": {},
   "outputs": [
    {
     "name": "stdout",
     "output_type": "stream",
     "text": [
      "Probability of 2 errors in 255 words:  4.643325397270271e-07\n"
     ]
    }
   ],
   "source": [
    "print('Probability of 2 errors in 255 words: ', get_result(19.87,2))"
   ]
  },
  {
   "cell_type": "markdown",
   "metadata": {},
   "source": [
    "### Problem Statement 9\n",
    "\n",
    "Let the continuous random variable D denote the diameter of the hole drilled in an\n",
    "aluminum sheet. The target diameter to be achieved is 12.5mm. Random\n",
    "disturbances in the process often result in inaccuracy.\n",
    "\n",
    "Historical data shows that the distribution of D can be modelled by the PDF, \n",
    "\n",
    "f(d) = 20e−20(d−12.5), d ≥ 12.5 \n",
    "\n",
    "If a part with diameter > 12.6 mm needs to be scrapped,\n",
    "\n",
    "• What is the proportion of those parts? \n",
    "\n",
    "• What is the CDF when the diameter is of 11 mm?\n",
    "\n",
    "• What is the conclusion of this experiment?"
   ]
  },
  {
   "cell_type": "code",
   "execution_count": null,
   "metadata": {},
   "outputs": [],
   "source": []
  },
  {
   "cell_type": "markdown",
   "metadata": {},
   "source": [
    "### Problem Statement 10\n",
    "\n",
    "Please compute the following:\n",
    "\n",
    "a) P(Z > 1.26), . P(Z < −0.86), P(Z > −1.37), P(−1.25 < Z < 0.37), . P(Z ≤ −4.6)\n",
    "\n",
    "b) Find the value z such that P(Z > z) = 0.05\n",
    "\n",
    "c) Find the value of z such that P(−z < Z < z) = 0.99"
   ]
  },
  {
   "cell_type": "markdown",
   "metadata": {},
   "source": [
    "### Solution a:\n",
    "P(Z > 1.26) = 1-0.8962 = 0.1038\n",
    "\n",
    "P(Z < -0.86) = 0.1949\n",
    "\n",
    "P(Z > −1.37) = 1 - 0.0853 = 0.9147\n",
    "\n",
    "P(−1.25 < Z < 0.37) = (1-0.1056) - (1-0.6443) = 0.5387\n",
    "\n",
    "P(Z ≤ −4.6) = 1.0"
   ]
  },
  {
   "cell_type": "markdown",
   "metadata": {},
   "source": [
    "### Solution b:\n",
    "P(Z > z) = 0.05 -->  z = 1.65"
   ]
  },
  {
   "cell_type": "markdown",
   "metadata": {},
   "source": [
    "### Solution c:\n",
    "P(−z < Z < z) = 0.99 --> z = 2.32"
   ]
  },
  {
   "cell_type": "markdown",
   "metadata": {},
   "source": [
    "### Problem Statement 11\n",
    "\n",
    "The current flow in a copper wire follows a normal distribution with a mean of 10 mA\n",
    "and a variance of 4 (mA)2.\n",
    "\n",
    "• What is the probability that a current measurement will exceed 13 mA? \n",
    "\n",
    "• What is the probability that a current measurement is between 9 and 11mA? \n",
    "\n",
    "Determine the current measurement which has a probability of 0.98."
   ]
  },
  {
   "cell_type": "code",
   "execution_count": 232,
   "metadata": {},
   "outputs": [
    {
     "name": "stdout",
     "output_type": "stream",
     "text": [
      "Probability of exceeding 13 mA:  0.0668432\n",
      "Probability of being between 9 mA and 11 mA:  0.3827292\n",
      "Values for the probability of 0.98: Between 5.3 and 14.7  probability: 0.9812125\n"
     ]
    }
   ],
   "source": [
    "mu = 10\n",
    "sigma = 2\n",
    "size = 10000000\n",
    "\n",
    "# Sample out of a normal distribution with this mu and sigma: samples\n",
    "samples = np.random.normal(mu, sigma, size=size)\n",
    "count1 = 0\n",
    "count2 = 0\n",
    "count3 = 0\n",
    "for sample in samples:\n",
    "    if sample > 5.3 and sample < 14.7:\n",
    "        count3 += 1\n",
    "    if sample > 9 and sample < 11:\n",
    "        count2 += 1\n",
    "    if sample > 13:\n",
    "        count1 += 1\n",
    "print('Probability of exceeding 13 mA: ', count1/size)\n",
    "print('Probability of being between 9 mA and 11 mA: ', count2/size)\n",
    "print('Values for the probability of 0.98:', 'Between 5.3 and 14.7', ' probability:',count3/size)"
   ]
  },
  {
   "cell_type": "markdown",
   "metadata": {},
   "source": [
    "### Problem Statement 12\n",
    "\n",
    "The shaft in a piston has its diameter normally distributed with a mean of 0.2508 inch\n",
    "and a standard deviation of 0.0005 inch. The specifications of the shaft are 0.2500 ∓\n",
    "0.0015 inch. \n",
    "\n",
    "• What proportion of shafts are in sync with the specifications? \n",
    "\n",
    "If the process is centered so that the mean is equal to the target value of 0.2500, \n",
    "\n",
    "• What proportion of shafts conform to the new specifications? \n",
    "\n",
    "• What is your conclusion from this experiment?"
   ]
  },
  {
   "cell_type": "markdown",
   "metadata": {},
   "source": [
    "### Solution:"
   ]
  },
  {
   "cell_type": "code",
   "execution_count": 241,
   "metadata": {},
   "outputs": [
    {
     "name": "stdout",
     "output_type": "stream",
     "text": [
      "If mu= 0.2508; Proportion of shafts are in sync with the specifications: 0.919337\n"
     ]
    }
   ],
   "source": [
    "mu = 0.2508\n",
    "sigma = 0.0005\n",
    "size = 1000000\n",
    "\n",
    "# Sample out of a normal distribution with this mu and sigma: samples\n",
    "samples = np.random.normal(mu, sigma, size=size)\n",
    "count = 0\n",
    "for sample in samples:\n",
    "    if sample > 0.2485 and sample < 0.2515:\n",
    "        count += 1\n",
    "print('If mu= 0.2508; Proportion of shafts are in sync with the specifications:', count/size)"
   ]
  },
  {
   "cell_type": "code",
   "execution_count": 242,
   "metadata": {},
   "outputs": [
    {
     "name": "stdout",
     "output_type": "stream",
     "text": [
      "If mu= 0.2500; Proportion of shafts are in sync with the specifications: 0.997314\n"
     ]
    }
   ],
   "source": [
    "mu = 0.2500\n",
    "sigma = 0.0005\n",
    "size = 1000000\n",
    "\n",
    "# Sample out of a normal distribution with this mu and sigma: samples\n",
    "samples = np.random.normal(mu, sigma, size=size)\n",
    "count = 0\n",
    "for sample in samples:\n",
    "    if sample > 0.2485 and sample < 0.2515:\n",
    "        count += 1\n",
    "print('If mu= 0.2500; Proportion of shafts are in sync with the specifications:', count/size)"
   ]
  },
  {
   "cell_type": "markdown",
   "metadata": {},
   "source": [
    "### My Conclusion\n",
    "Mean value of the produced shafts has a high effect in means of quality; for good qaulity it should be in sync with the mean of the specifications."
   ]
  }
 ],
 "metadata": {
  "kernelspec": {
   "display_name": "Python 3",
   "language": "python",
   "name": "python3"
  },
  "language_info": {
   "codemirror_mode": {
    "name": "ipython",
    "version": 3
   },
   "file_extension": ".py",
   "mimetype": "text/x-python",
   "name": "python",
   "nbconvert_exporter": "python",
   "pygments_lexer": "ipython3",
   "version": "3.8.2"
  }
 },
 "nbformat": 4,
 "nbformat_minor": 2
}
