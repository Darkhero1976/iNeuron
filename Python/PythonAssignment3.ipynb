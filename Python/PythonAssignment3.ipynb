{
 "cells": [
  {
   "cell_type": "markdown",
   "metadata": {},
   "source": [
    "# iNeuron\n",
    "## Python\n",
    "## Assignment 3"
   ]
  },
  {
   "cell_type": "markdown",
   "metadata": {},
   "source": [
    "###  Introduction\n",
    "This assignment will help you to consolidate the concepts learnt in the session."
   ]
  },
  {
   "cell_type": "markdown",
   "metadata": {},
   "source": [
    "### Task 1\n",
    "Write a function to compute 5/0 and use try/except to catch the exceptions.\n"
   ]
  },
  {
   "cell_type": "code",
   "execution_count": 10,
   "metadata": {},
   "outputs": [
    {
     "name": "stdout",
     "output_type": "stream",
     "text": [
      "Exception occurred while dividing by 0\n",
      "None\n"
     ]
    }
   ],
   "source": [
    "def compute_5_divided_by_0(): \n",
    "    res = None\n",
    "    try:\n",
    "        res = 5/0\n",
    "    except:\n",
    "        print(\"Exception occurred while dividing by 0\")\n",
    "        \n",
    "print( compute_5_divided_by_0() )"
   ]
  },
  {
   "cell_type": "markdown",
   "metadata": {},
   "source": [
    "### Task 2\n",
    "Implement a Python program to generate all sentences where subject is in [\"Americans\", \"Indians\"] and \n",
    "\n",
    "verb is in [\"Play\", \"watch\"] and the object is in [\"Baseball\",\"cricket\"].\n",
    "\n",
    "Hint: Subject,Verb and Object should be declared in the program as shown below.\n",
    "subjects=[\"Americans \",\"Indians\"] verbs=[\"play\",\"watch\"] objects=[\"Baseball\",\"Cricket\"]\n",
    "Output should come as below:\n",
    "\n",
    "Americans play Baseball.\n",
    "Americans play Cricket. \n",
    "Americans watch Baseball. \n",
    "Americans watch Cricket. \n",
    "Indians play Baseball. \n",
    "Indians play Cricket. \n",
    "Indians watch Baseball. \n",
    "Indians watch Cricket."
   ]
  },
  {
   "cell_type": "code",
   "execution_count": 9,
   "metadata": {},
   "outputs": [
    {
     "name": "stdout",
     "output_type": "stream",
     "text": [
      "Americans play Baseball.\n",
      "Americans play Cricket.\n",
      "Americans watch Baseball.\n",
      "Americans watch Cricket.\n",
      "Indians play Baseball.\n",
      "Indians play Cricket.\n",
      "Indians watch Baseball.\n",
      "Indians watch Cricket.\n"
     ]
    }
   ],
   "source": [
    "subjects = ['Americans', 'Indians']\n",
    "verbs = ['play', 'watch']\n",
    "objects = ['Baseball', 'Cricket']\n",
    "\n",
    "for subj in subjects:\n",
    "    for verb in verbs:\n",
    "        for obj in objects:\n",
    "            res = ''\n",
    "            res += subj + ' ' + verb + ' ' + obj + '.'\n",
    "            print(res)"
   ]
  },
  {
   "cell_type": "markdown",
   "metadata": {},
   "source": [
    "### Task 3\n",
    "Write a function so that the columns of the output matrix are powers of the input vector.\n",
    "The order of the powers is determined by the increasing boolean argument. Specifically, when increasing is False, the i-th output column is the input vector raised element-wise to the power of N - i - 1.\n",
    "\n",
    "HINT: Such a matrix with a geometric progression in each row is named for Alexandre- Theophile Vandermonde."
   ]
  },
  {
   "cell_type": "code",
   "execution_count": 3,
   "metadata": {},
   "outputs": [
    {
     "name": "stdout",
     "output_type": "stream",
     "text": [
      "[[    1     1     1     1     1     1     1]\n",
      " [    1     2     4     8    16    32    64]\n",
      " [    1     3     9    27    81   243   729]\n",
      " [    1     4    16    64   256  1024  4096]\n",
      " [    1     5    25   125   625  3125 15625]\n",
      " [    1     6    36   216  1296  7776 46656]]\n"
     ]
    }
   ],
   "source": [
    "import numpy as np\n",
    "input = [1,2,3,4,5,6]\n",
    "\n",
    "def get_vander_matrix(input, n=3):\n",
    "    length = len(input)\n",
    "    res = np.zeros((length, n)).astype('int')\n",
    "    for i in range(length):\n",
    "        for j in range(n):\n",
    "            res[i][j] = input[i]**j\n",
    "    return res\n",
    "\n",
    "print( get_vander_matrix(input, 7) )"
   ]
  }
 ],
 "metadata": {
  "kernelspec": {
   "display_name": "Python 3",
   "language": "python",
   "name": "python3"
  },
  "language_info": {
   "codemirror_mode": {
    "name": "ipython",
    "version": 3
   },
   "file_extension": ".py",
   "mimetype": "text/x-python",
   "name": "python",
   "nbconvert_exporter": "python",
   "pygments_lexer": "ipython3",
   "version": "3.7.4"
  }
 },
 "nbformat": 4,
 "nbformat_minor": 2
}
